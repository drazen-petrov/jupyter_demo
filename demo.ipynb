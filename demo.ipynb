{
 "cells": [
  {
   "cell_type": "markdown",
   "id": "e71747e3",
   "metadata": {},
   "source": [
    "# Jupyter demonstration\n",
    "\n",
    "### Features\n",
    "\n",
    "- web-based interactive platform\n",
    "- python\n",
    "    - data analysis\n",
    "    - plotting\n",
    "- other programming languages\n",
    "    - perl\n",
    "    - R\n",
    "    - c/c++\n",
    "    - many other\n",
    "- command line\n",
    "- **markup text**"
   ]
  },
  {
   "cell_type": "markdown",
   "id": "5cfd1a76",
   "metadata": {},
   "source": [
    "## Simple code\n",
    "\n",
    "#### Interactive nature of Jupyter notebooks"
   ]
  },
  {
   "cell_type": "code",
   "execution_count": 1,
   "id": "926ed0c6",
   "metadata": {},
   "outputs": [
    {
     "name": "stdout",
     "output_type": "stream",
     "text": [
      "Hello world\n"
     ]
    }
   ],
   "source": [
    "print(\"Hello world\")"
   ]
  },
  {
   "cell_type": "code",
   "execution_count": 2,
   "id": "ad82d99b",
   "metadata": {},
   "outputs": [
    {
     "name": "stdout",
     "output_type": "stream",
     "text": [
      "current number 1 current sum 1\n",
      "current number 2 current sum 3\n",
      "current number 3 current sum 6\n",
      "current number 4 current sum 10\n",
      "current number 5 current sum 15\n",
      "current number 6 current sum 21\n",
      "current number 7 current sum 28\n",
      "current number 8 current sum 36\n",
      "current number 9 current sum 45\n",
      "current number 10 current sum 55\n"
     ]
    }
   ],
   "source": [
    "s = 0\n",
    "for i in range(1,11):\n",
    "    s+=i\n",
    "    print('current number', i, 'current sum', s)"
   ]
  },
  {
   "cell_type": "code",
   "execution_count": 3,
   "id": "1fd0aaec",
   "metadata": {},
   "outputs": [
    {
     "data": {
      "text/plain": [
       "(2, 51)"
      ]
     },
     "execution_count": 3,
     "metadata": {},
     "output_type": "execute_result"
    }
   ],
   "source": [
    "import numpy as np\n",
    "data = np.loadtxt('data.csv', delimiter=',')\n",
    "x,y = data\n",
    "data.shape # 2D array"
   ]
  },
  {
   "cell_type": "markdown",
   "id": "35a21402",
   "metadata": {},
   "source": [
    "### Simple visualization"
   ]
  },
  {
   "cell_type": "code",
   "execution_count": 4,
   "id": "c5da140d",
   "metadata": {},
   "outputs": [
    {
     "data": {
      "image/png": "[encoded data removed]",
      "text/plain": [
       "<Figure size 432x288 with 1 Axes>"
      ]
     },
     "metadata": {
      "needs_background": "light"
     },
     "output_type": "display_data"
    }
   ],
   "source": [
    "from matplotlib import pyplot as plt\n",
    "plt.scatter(x, y, color = 'k')\n",
    "_temp = plt.xlabel('volume NaOH [ml]')\n",
    "_temp = plt.ylabel(r'Leitfähigkeit [$\\mu$S/cm]')"
   ]
  },
  {
   "cell_type": "markdown",
   "id": "cab73f00",
   "metadata": {},
   "source": [
    "### More complex plot"
   ]
  },
  {
   "cell_type": "code",
   "execution_count": 5,
   "id": "75d5735b",
   "metadata": {},
   "outputs": [
    {
     "data": {
      "image/png": "[encoded data removed]",
      "text/plain": [
       "<Figure size 432x288 with 1 Axes>"
      ]
     },
     "metadata": {
      "needs_background": "light"
     },
     "output_type": "display_data"
    }
   ],
   "source": [
    "from scipy import stats\n",
    "from scipy.stats import linregress\n",
    "\n",
    "def get_y(k, l, x):\n",
    "    return x*k + l\n",
    "\n",
    "\n",
    "num_points1 = 20\n",
    "slope1, intercept1, r_value, p_value, std_err = stats.linregress(x[:num_points1],y[:num_points1])\n",
    "plt.scatter(x[:num_points1],y[:num_points1], color = 'b')\n",
    "plt.plot(x,get_y(slope1, intercept1, x), color = 'b')\n",
    "_temp = plt.xlabel('volume NaOH [ml]')\n",
    "_temp = plt.ylabel(r'Leitfähigkeit [$\\mu$S/cm]')\n",
    "num_points2 = 15\n",
    "slope2, intercept2, r_value, p_value, std_err = stats.linregress(x[-num_points2:],y[-num_points2:])\n",
    "plt.scatter(x[-num_points2:],y[-num_points2:], color = 'r')\n",
    "plt.scatter(x[num_points1:-num_points2],y[num_points1:-num_points2], color = 'k')\n",
    "plt.plot(x,get_y(slope2, intercept2, x), color = 'r')\n",
    "_temp = plt.xlabel('volume NaOH [ml]')\n",
    "_temp = plt.ylabel(r'Leitfähigkeit [$\\mu$S/cm]')\n",
    "x_int = (intercept2 - intercept1) / (slope1 - slope2)\n",
    "_temp = plt.axvline(x=x_int)\n"
   ]
  },
  {
   "cell_type": "markdown",
   "id": "18d89828",
   "metadata": {},
   "source": [
    "### More complex data structures (Tables)"
   ]
  },
  {
   "cell_type": "code",
   "execution_count": 6,
   "id": "6ff35121",
   "metadata": {},
   "outputs": [
    {
     "data": {
      "text/html": [
       "<div>\n",
       "<style scoped>\n",
       "    .dataframe tbody tr th:only-of-type {\n",
       "        vertical-align: middle;\n",
       "    }\n",
       "\n",
       "    .dataframe tbody tr th {\n",
       "        vertical-align: top;\n",
       "    }\n",
       "\n",
       "    .dataframe thead th {\n",
       "        text-align: right;\n",
       "    }\n",
       "</style>\n",
       "<table border=\"1\" class=\"dataframe\">\n",
       "  <thead>\n",
       "    <tr style=\"text-align: right;\">\n",
       "      <th></th>\n",
       "      <th>Time</th>\n",
       "      <th>Bundesland</th>\n",
       "      <th>BundeslandID</th>\n",
       "      <th>AnzEinwohner</th>\n",
       "      <th>AnzahlFaelle</th>\n",
       "      <th>AnzahlFaelleSum</th>\n",
       "      <th>AnzahlFaelle7Tage</th>\n",
       "      <th>SiebenTageInzidenzFaelle</th>\n",
       "      <th>AnzahlTotTaeglich</th>\n",
       "      <th>AnzahlTotSum</th>\n",
       "      <th>AnzahlGeheiltTaeglich</th>\n",
       "      <th>AnzahlGeheiltSum</th>\n",
       "    </tr>\n",
       "  </thead>\n",
       "  <tbody>\n",
       "    <tr>\n",
       "      <th>0</th>\n",
       "      <td>26.02.2020 00:00:00</td>\n",
       "      <td>Burgenland</td>\n",
       "      <td>1</td>\n",
       "      <td>294436</td>\n",
       "      <td>0</td>\n",
       "      <td>0</td>\n",
       "      <td>0</td>\n",
       "      <td>0</td>\n",
       "      <td>0</td>\n",
       "      <td>0</td>\n",
       "      <td>0</td>\n",
       "      <td>0</td>\n",
       "    </tr>\n",
       "    <tr>\n",
       "      <th>1</th>\n",
       "      <td>26.02.2020 00:00:00</td>\n",
       "      <td>Kärnten</td>\n",
       "      <td>2</td>\n",
       "      <td>561293</td>\n",
       "      <td>0</td>\n",
       "      <td>0</td>\n",
       "      <td>0</td>\n",
       "      <td>0</td>\n",
       "      <td>0</td>\n",
       "      <td>0</td>\n",
       "      <td>0</td>\n",
       "      <td>0</td>\n",
       "    </tr>\n",
       "    <tr>\n",
       "      <th>2</th>\n",
       "      <td>26.02.2020 00:00:00</td>\n",
       "      <td>Niederösterreich</td>\n",
       "      <td>3</td>\n",
       "      <td>1684287</td>\n",
       "      <td>0</td>\n",
       "      <td>0</td>\n",
       "      <td>0</td>\n",
       "      <td>0</td>\n",
       "      <td>0</td>\n",
       "      <td>0</td>\n",
       "      <td>0</td>\n",
       "      <td>0</td>\n",
       "    </tr>\n",
       "    <tr>\n",
       "      <th>3</th>\n",
       "      <td>26.02.2020 00:00:00</td>\n",
       "      <td>Oberösterreich</td>\n",
       "      <td>4</td>\n",
       "      <td>1490279</td>\n",
       "      <td>0</td>\n",
       "      <td>0</td>\n",
       "      <td>0</td>\n",
       "      <td>0</td>\n",
       "      <td>0</td>\n",
       "      <td>0</td>\n",
       "      <td>0</td>\n",
       "      <td>0</td>\n",
       "    </tr>\n",
       "    <tr>\n",
       "      <th>4</th>\n",
       "      <td>26.02.2020 00:00:00</td>\n",
       "      <td>Salzburg</td>\n",
       "      <td>5</td>\n",
       "      <td>558410</td>\n",
       "      <td>0</td>\n",
       "      <td>0</td>\n",
       "      <td>0</td>\n",
       "      <td>0</td>\n",
       "      <td>0</td>\n",
       "      <td>0</td>\n",
       "      <td>0</td>\n",
       "      <td>0</td>\n",
       "    </tr>\n",
       "  </tbody>\n",
       "</table>\n",
       "</div>"
      ],
      "text/plain": [
       "                  Time        Bundesland  BundeslandID  AnzEinwohner  \\\n",
       "0  26.02.2020 00:00:00        Burgenland             1        294436   \n",
       "1  26.02.2020 00:00:00           Kärnten             2        561293   \n",
       "2  26.02.2020 00:00:00  Niederösterreich             3       1684287   \n",
       "3  26.02.2020 00:00:00    Oberösterreich             4       1490279   \n",
       "4  26.02.2020 00:00:00          Salzburg             5        558410   \n",
       "\n",
       "   AnzahlFaelle  AnzahlFaelleSum  AnzahlFaelle7Tage SiebenTageInzidenzFaelle  \\\n",
       "0             0                0                  0                        0   \n",
       "1             0                0                  0                        0   \n",
       "2             0                0                  0                        0   \n",
       "3             0                0                  0                        0   \n",
       "4             0                0                  0                        0   \n",
       "\n",
       "   AnzahlTotTaeglich  AnzahlTotSum  AnzahlGeheiltTaeglich  AnzahlGeheiltSum  \n",
       "0                  0             0                      0                 0  \n",
       "1                  0             0                      0                 0  \n",
       "2                  0             0                      0                 0  \n",
       "3                  0             0                      0                 0  \n",
       "4                  0             0                      0                 0  "
      ]
     },
     "execution_count": 6,
     "metadata": {},
     "output_type": "execute_result"
    }
   ],
   "source": [
    "import pandas as pd\n",
    "covid_df = pd.read_csv('CovidFaelle_Timeline.csv', sep=';')\n",
    "covid_df.head()"
   ]
  },
  {
   "cell_type": "code",
   "execution_count": 7,
   "id": "cf6ee55c",
   "metadata": {},
   "outputs": [
    {
     "data": {
      "text/html": [
       "<div>\n",
       "<style scoped>\n",
       "    .dataframe tbody tr th:only-of-type {\n",
       "        vertical-align: middle;\n",
       "    }\n",
       "\n",
       "    .dataframe tbody tr th {\n",
       "        vertical-align: top;\n",
       "    }\n",
       "\n",
       "    .dataframe thead th {\n",
       "        text-align: right;\n",
       "    }\n",
       "</style>\n",
       "<table border=\"1\" class=\"dataframe\">\n",
       "  <thead>\n",
       "    <tr style=\"text-align: right;\">\n",
       "      <th></th>\n",
       "      <th>cases</th>\n",
       "      <th>deaths</th>\n",
       "      <th>recovered</th>\n",
       "    </tr>\n",
       "    <tr>\n",
       "      <th>Time</th>\n",
       "      <th></th>\n",
       "      <th></th>\n",
       "      <th></th>\n",
       "    </tr>\n",
       "  </thead>\n",
       "  <tbody>\n",
       "    <tr>\n",
       "      <th>2020-02-26</th>\n",
       "      <td>1</td>\n",
       "      <td>0</td>\n",
       "      <td>0</td>\n",
       "    </tr>\n",
       "    <tr>\n",
       "      <th>2020-02-27</th>\n",
       "      <td>2</td>\n",
       "      <td>0</td>\n",
       "      <td>0</td>\n",
       "    </tr>\n",
       "    <tr>\n",
       "      <th>2020-02-28</th>\n",
       "      <td>4</td>\n",
       "      <td>0</td>\n",
       "      <td>0</td>\n",
       "    </tr>\n",
       "    <tr>\n",
       "      <th>2020-02-29</th>\n",
       "      <td>1</td>\n",
       "      <td>0</td>\n",
       "      <td>0</td>\n",
       "    </tr>\n",
       "    <tr>\n",
       "      <th>2020-03-01</th>\n",
       "      <td>4</td>\n",
       "      <td>0</td>\n",
       "      <td>0</td>\n",
       "    </tr>\n",
       "    <tr>\n",
       "      <th>...</th>\n",
       "      <td>...</td>\n",
       "      <td>...</td>\n",
       "      <td>...</td>\n",
       "    </tr>\n",
       "    <tr>\n",
       "      <th>2021-05-12</th>\n",
       "      <td>1009</td>\n",
       "      <td>19</td>\n",
       "      <td>2067</td>\n",
       "    </tr>\n",
       "    <tr>\n",
       "      <th>2021-05-13</th>\n",
       "      <td>857</td>\n",
       "      <td>11</td>\n",
       "      <td>1840</td>\n",
       "    </tr>\n",
       "    <tr>\n",
       "      <th>2021-05-14</th>\n",
       "      <td>653</td>\n",
       "      <td>5</td>\n",
       "      <td>1817</td>\n",
       "    </tr>\n",
       "    <tr>\n",
       "      <th>2021-05-15</th>\n",
       "      <td>695</td>\n",
       "      <td>9</td>\n",
       "      <td>1506</td>\n",
       "    </tr>\n",
       "    <tr>\n",
       "      <th>2021-05-16</th>\n",
       "      <td>509</td>\n",
       "      <td>3</td>\n",
       "      <td>1348</td>\n",
       "    </tr>\n",
       "  </tbody>\n",
       "</table>\n",
       "<p>446 rows × 3 columns</p>\n",
       "</div>"
      ],
      "text/plain": [
       "            cases  deaths  recovered\n",
       "Time                                \n",
       "2020-02-26      1       0          0\n",
       "2020-02-27      2       0          0\n",
       "2020-02-28      4       0          0\n",
       "2020-02-29      1       0          0\n",
       "2020-03-01      4       0          0\n",
       "...           ...     ...        ...\n",
       "2021-05-12   1009      19       2067\n",
       "2021-05-13    857      11       1840\n",
       "2021-05-14    653       5       1817\n",
       "2021-05-15    695       9       1506\n",
       "2021-05-16    509       3       1348\n",
       "\n",
       "[446 rows x 3 columns]"
      ]
     },
     "execution_count": 7,
     "metadata": {},
     "output_type": "execute_result"
    }
   ],
   "source": [
    "covid_df = covid_df[covid_df.Bundesland == 'Österreich']\n",
    "covid_df.Time = pd.to_datetime(covid_df.Time, yearfirst = True, dayfirst = True)\n",
    "covid_df = covid_df.set_index('Time')\n",
    "covid_df = covid_df[['AnzahlFaelle', 'AnzahlTotTaeglich', 'AnzahlGeheiltTaeglich']]\n",
    "covid_df.columns = ['cases', 'deaths', 'recovered']\n",
    "covid_df"
   ]
  },
  {
   "cell_type": "code",
   "execution_count": 8,
   "id": "9944190f",
   "metadata": {},
   "outputs": [
    {
     "data": {
      "text/plain": [
       "<AxesSubplot:xlabel='Time'>"
      ]
     },
     "execution_count": 8,
     "metadata": {},
     "output_type": "execute_result"
    },
    {
     "data": {
      "image/png": "[encoded data removed]",
      "text/plain": [
       "<Figure size 432x288 with 1 Axes>"
      ]
     },
     "metadata": {
      "needs_background": "light"
     },
     "output_type": "display_data"
    }
   ],
   "source": [
    "covid_df.plot() # simple plot"
   ]
  },
  {
   "cell_type": "code",
   "execution_count": 9,
   "id": "a0980095",
   "metadata": {},
   "outputs": [
    {
     "data": {
      "text/plain": [
       "<AxesSubplot:xlabel='Time'>"
      ]
     },
     "execution_count": 9,
     "metadata": {},
     "output_type": "execute_result"
    },
    {
     "data": {
      "image/png": "[encoded data removed]",
      "text/plain": [
       "<Figure size 432x288 with 1 Axes>"
      ]
     },
     "metadata": {
      "needs_background": "light"
     },
     "output_type": "display_data"
    }
   ],
   "source": [
    "#covid_df.resample('W').mean().plot() # weekly average\n",
    "covid_df.rolling(14).mean().plot() # rolling average - 2 week incidence"
   ]
  },
  {
   "cell_type": "markdown",
   "id": "028c43ec",
   "metadata": {},
   "source": [
    "## Command line"
   ]
  },
  {
   "cell_type": "code",
   "execution_count": 10,
   "id": "52b1bd16",
   "metadata": {},
   "outputs": [
    {
     "name": "stdout",
     "output_type": "stream",
     "text": [
      "apt.txt\t\t\t  data.csv    environment.yml\r\n",
      "CovidFaelle_Timeline.csv  demo.ipynb  postBuild\r\n"
     ]
    }
   ],
   "source": [
    "!ls"
   ]
  },
  {
   "cell_type": "code",
   "execution_count": null,
   "id": "675a2555",
   "metadata": {},
   "outputs": [],
   "source": []
  }
 ],
 "metadata": {
  "kernelspec": {
   "display_name": "Python 3",
   "language": "python",
   "name": "python3"
  },
  "language_info": {
   "codemirror_mode": {
    "name": "ipython",
    "version": 3
   },
   "file_extension": ".py",
   "mimetype": "text/x-python",
   "name": "python",
   "nbconvert_exporter": "python",
   "pygments_lexer": "ipython3",
   "version": "3.8.10"
  }
 },
 "nbformat": 4,
 "nbformat_minor": 5
}
